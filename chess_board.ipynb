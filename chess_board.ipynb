{
 "cells": [
  {
   "cell_type": "code",
   "execution_count": 25,
   "metadata": {},
   "outputs": [],
   "source": [
    "import numpy as np\n",
    "import matplotlib.pyplot as plt "
   ]
  },
  {
   "cell_type": "code",
   "execution_count": 26,
   "metadata": {},
   "outputs": [
    {
     "name": "stdout",
     "output_type": "stream",
     "text": [
      "True\n"
     ]
    },
    {
     "data": {
      "image/png": "[encoded data removed]",
      "text/plain": [
       "<Figure size 432x288 with 1 Axes>"
      ]
     },
     "metadata": {
      "needs_background": "light"
     },
     "output_type": "display_data"
    }
   ],
   "source": [
    "class ChessBoard:\n",
    "\n",
    "    def __init__(self):\n",
    "        \"\"\"\n",
    "        ChessBoard class to create a chessboard \n",
    "        No arguments\n",
    "        \"\"\"\n",
    "        self.chess = np.zeros((8,8,3))\n",
    "        for col in range(8): \n",
    "            for row in range(8):\n",
    "                if (row % 2 and col % 2 )or (not row % 2 and not col % 2):\n",
    "                    self.chess[row][col] = np.array([1,1,1])\n",
    "    def add_red(self,red_row,red_col):\n",
    "        \"\"\"\n",
    "        method show the location of red_queen\n",
    "        Arguments: red_row , red_col\n",
    "        No returns\n",
    "        \"\"\"\n",
    "        self.red_row=red_row\n",
    "        self.red_col=red_col\n",
    "        self.chess[red_row][red_col] = np.array([1,0,0])    \n",
    "    def add_blue(self,blue_row,blue_col):\n",
    "        \"\"\"\n",
    "        method show the location of blue_queen\n",
    "        Arguments: blue_row , blue_col\n",
    "        No returns\n",
    "        \"\"\"\n",
    "        self.blue_row=blue_row\n",
    "        self.blue_col=blue_col\n",
    "        self.chess[blue_row][blue_col] = np.array([0,0,1]) \n",
    "    def is_under_attak(self):\n",
    "        \"\"\"\n",
    "        method show if a queen is under attak by the other queen \n",
    "        No arguments\n",
    "        Returns : Boolean\n",
    "        \"\"\"\n",
    "        if self.red_row ==self.blue_row or self.blue_col ==self.red_col:\n",
    "            return True\n",
    "        if abs(self.red_row - self.blue_row) == abs(self.red_col-self.blue_col):\n",
    "            return True\n",
    "        return False\n",
    "    def render(self):\n",
    "        \"\"\"\n",
    "        method to show a grid of chessboard\n",
    "        No arguments\n",
    "        Output--> display an image for chess-board\n",
    "        \"\"\"\n",
    "        plt.imshow(self.chess)\n",
    "\n",
    "\n",
    "\n",
    "board2 = ChessBoard()\n",
    "board2.add_red(5,5)\n",
    "board2.add_blue(3,3)\n",
    "print(board2.is_under_attak())\n",
    "board2.render()        \n"
   ]
  },
  {
   "cell_type": "code",
   "execution_count": 33,
   "metadata": {},
   "outputs": [
    {
     "name": "stdout",
     "output_type": "stream",
     "text": [
      "****** Under Attak *******\n"
     ]
    }
   ],
   "source": [
    "# Test1: Queens on same row should be “under attack”\n",
    "board = ChessBoard()\n",
    "board.add_red(3,5)\n",
    "board.add_blue(3,4)\n",
    "assert board.is_under_attak()\n",
    "print(\"****** Under Attak *******\")"
   ]
  },
  {
   "cell_type": "code",
   "execution_count": 34,
   "metadata": {},
   "outputs": [
    {
     "name": "stdout",
     "output_type": "stream",
     "text": [
      "****** Under Attak *******\n"
     ]
    }
   ],
   "source": [
    "# Test2: Queens on same column should be “under attack”\n",
    "board2 = ChessBoard()\n",
    "board2.add_red(2,4)\n",
    "board2.add_blue(3,4)\n",
    "assert board.is_under_attak()\n",
    "print(\"****** Under Attak *******\")"
   ]
  },
  {
   "cell_type": "code",
   "execution_count": 35,
   "metadata": {},
   "outputs": [
    {
     "name": "stdout",
     "output_type": "stream",
     "text": [
      "****** Under Attak *******\n"
     ]
    }
   ],
   "source": [
    "# Test3 : queens on same diagonal should be “under attack”\n",
    "board3 = ChessBoard()\n",
    "board3.add_red(1,4)\n",
    "board3.add_blue(4,1)\n",
    "assert board.is_under_attak()\n",
    "print(\"****** Under Attak *******\")"
   ]
  },
  {
   "cell_type": "code",
   "execution_count": 37,
   "metadata": {},
   "outputs": [
    {
     "name": "stdout",
     "output_type": "stream",
     "text": [
      "****** NOT Under Attak *******\n"
     ]
    }
   ],
   "source": [
    "# Test4 : queens with any other coordinates should NOT be “under attack”\n",
    "board4 = ChessBoard()\n",
    "board4.add_red(6,4)\n",
    "board4.add_blue(4,1)\n",
    "assert board.is_under_attak()\n",
    "print(\"****** NOT Under Attak *******\")"
   ]
  }
 ],
 "metadata": {
  "interpreter": {
   "hash": "eefdbeb21445ed9c2ca7ec1351d6ea519a3d55070b93234024c7fc56892ac7bb"
  },
  "kernelspec": {
   "display_name": "Python 3.9.5 64-bit ('.venv': poetry)",
   "name": "python3"
  },
  "language_info": {
   "codemirror_mode": {
    "name": "ipython",
    "version": 3
   },
   "file_extension": ".py",
   "mimetype": "text/x-python",
   "name": "python",
   "nbconvert_exporter": "python",
   "pygments_lexer": "ipython3",
   "version": "3.9.5"
  },
  "orig_nbformat": 4
 },
 "nbformat": 4,
 "nbformat_minor": 2
}
